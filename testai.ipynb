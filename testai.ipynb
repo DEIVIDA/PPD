{
 "cells": [
  {
   "cell_type": "code",
   "execution_count": 18,
   "metadata": {},
   "outputs": [
    {
     "data": {
      "text/plain": [
       "2"
      ]
     },
     "execution_count": 18,
     "metadata": {},
     "output_type": "execute_result"
    }
   ],
   "source": [
    "saldytuvas = {\"slyvos\":3,\"bananai\":5,\"pasikorusi ziurke\":0.5,\"kiausiniai\":7,\"pienas\":2,\"vanduo\":4,\"keciupas\":1.2}\n",
    "saldytuvas[\"pienas\"]\n"
   ]
  },
  {
   "cell_type": "code",
   "execution_count": 16,
   "metadata": {},
   "outputs": [
    {
     "name": "stdout",
     "output_type": "stream",
     "text": [
      "['pienas:1', ' kiausiniai:1']\n",
      "uztenka 2.0 porcijoms\n",
      "2.0\n"
     ]
    }
   ],
   "source": [
    "def ar_iseina(saldytuvas):\n",
    "    ivedimas = input(\"IVESKITE: \")\n",
    "    ingridientu_sarasas = ivedimas.split(\",\")\n",
    "    print(ingridientu_sarasas)\n",
    "    uztenka = []\n",
    "    for ingredientas in ingridientu_sarasas:\n",
    "        ingredientas, kiekis = ingredientas.split(\":\")\n",
    "        ingredientas = ingredientas.strip()\n",
    "        kiekis = float(kiekis)\n",
    "        if ingredientas in saldytuvas:\n",
    "            if saldytuvas[ingredientas] - kiekis < 0:\n",
    "                uztenka.append(False)\n",
    "            else:\n",
    "                uztenka.append(saldytuvas[ingredientas] / kiekis)\n",
    "        else:\n",
    "            uztenka.append(False)\n",
    "    if False in uztenka:\n",
    "        return False\n",
    "    else:\n",
    "        print(f\"uztenka {min(uztenka)} porcijoms\")\n",
    "        return min(uztenka)\n",
    "\n",
    "print(ar_iseina(saldytuvas))"
   ]
  },
  {
   "cell_type": "code",
   "execution_count": 21,
   "metadata": {},
   "outputs": [
    {
     "name": "stdout",
     "output_type": "stream",
     "text": [
      "uztenka 1.6666666666666667 porcijoms\n",
      "[{'slyvos': 3, 'bananai': 5, 'pasikorusi ziurke': 0.5, 'kiausiniai': 7, 'pienas': 2, 'vanduo': 4, 'keciupas': 1.2}]\n"
     ]
    }
   ],
   "source": [
    "def ar_iseina(saldytuvas):\n",
    "    ivedimas = input(\"IVESKITE: \")\n",
    "    ingridientu_sarasas = ivedimas.split(\",\")\n",
    "    uztenka = []\n",
    "    neuztenka = []\n",
    "    for ingredientas in ingridientu_sarasas:\n",
    "        ingredientas, kiekis = ingredientas.split(\":\")\n",
    "        ingredientas = ingredientas.strip()\n",
    "        kiekis = float(kiekis)\n",
    "        if ingredientas in saldytuvas:\n",
    "            if saldytuvas[ingredientas] - kiekis < 0:\n",
    "                neuztenka.append((saldytuvas[ingredientas] - kiekis)*(-1))\n",
    "            else:\n",
    "                uztenka.append(saldytuvas[ingredientas] / kiekis)\n",
    "        else:\n",
    "            neuztenka.append(saldytuvas)\n",
    "    else:\n",
    "        print(f\"uztenka {min(uztenka)} porcijoms\")\n",
    "    return neuztenka\n",
    "print(ar_iseina(saldytuvas))"
   ]
  }
 ],
 "metadata": {
  "kernelspec": {
   "display_name": "venv",
   "language": "python",
   "name": "python3"
  },
  "language_info": {
   "codemirror_mode": {
    "name": "ipython",
    "version": 3
   },
   "file_extension": ".py",
   "mimetype": "text/x-python",
   "name": "python",
   "nbconvert_exporter": "python",
   "pygments_lexer": "ipython3",
   "version": "3.11.4"
  },
  "orig_nbformat": 4
 },
 "nbformat": 4,
 "nbformat_minor": 2
}
